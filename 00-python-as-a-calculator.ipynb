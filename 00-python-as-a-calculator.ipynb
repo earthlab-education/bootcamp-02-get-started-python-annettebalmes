{
 "cells": [
  {
   "cell_type": "markdown",
   "metadata": {
    "tags": [
     "remove_cell"
    ]
   },
   "source": [
    "<div><img style=\"float: left; padding-right: 3em;\" src=\"https://avatars.githubusercontent.com/u/19476722\" width=\"150\" /><div/>\n",
    "\n",
    "# Earth Data Science Coding Challenge!\n",
    "Before we get started, make sure to read or review the guidelines below. These will help make sure that your code is **readable** and **reproducible**. "
   ]
  },
  {
   "cell_type": "markdown",
   "metadata": {
    "tags": [
     "remove_cell"
    ]
   },
   "source": [
    "## Don't get **caught** by these Jupyter notebook gotchas\n",
    "\n",
    "<img src=\"https://miro.medium.com/v2/resize:fit:4800/format:webp/1*o0HleR7BSe8W-pTnmucqHA.jpeg\" width=300 style=\"padding: 1em; border-style: solid; border-color: grey;\" />\n",
    "\n",
    "  > *Image source: https://alaskausfws.medium.com/whats-big-and-brown-and-loves-salmon-e1803579ee36*\n",
    "\n",
    "These are the most common issues that will keep you from getting started and delay your code review:\n",
    "\n",
    "1. When you try to run some code on GitHub Codespaces, you may be prompted to select a **kernel**.\n",
    "   * The **kernel** refers to the version of Python you are using\n",
    "   * You should use the **base** kernel, which should be the default option. \n",
    "   * You can also use the `Select Kernel` menu in the upper right to select the **base** kernel\n",
    "2. Before you commit your work, make sure it runs **reproducibly** by clicking:\n",
    "   1. `Restart` (this button won't appear until you've run some code), then\n",
    "   2. `Run All`\n",
    "\n",
    "## Check your code to make sure it's clean and easy to read\n",
    "\n",
    "<img src=\"https://encrypted-tbn0.gstatic.com/images?q=tbn:ANd9GcSO1w9WrbwbuMLN14IezH-iq2HEGwO3JDvmo5Y_hQIy7k-Xo2gZH-mP2GUIG6RFWL04X1k&usqp=CAU\" height=200 />\n",
    "\n",
    "* Format all cells prior to submitting (right click on your code).\n",
    "* Use expressive names for variables so you or the reader knows what they are. \n",
    "* Use comments to explain your code -- e.g. \n",
    "  ```python\n",
    "  # This is a comment, it starts with a hash sign\n",
    "  ```\n",
    "\n",
    "## Label and describe your plots\n",
    "\n",
    "![Source: https://xkcd.com/833](https://imgs.xkcd.com/comics/convincing.png)\n",
    "\n",
    "Make sure each plot has:\n",
    "  * A title that explains where and when the data are from\n",
    "  * x- and y- axis labels with **units** where appropriate\n",
    "  * A legend where appropriate\n",
    "\n",
    "\n",
    "## Icons: how to use this notebook\n",
    "We use the following icons to let you know when you need to change something to complete the challenge:\n",
    "  * &#128187; means you need to write or edit some code.\n",
    "  \n",
    "  * &#128214;  indicates recommended reading\n",
    "  \n",
    "  * &#9998; marks written responses to questions\n",
    "  \n",
    "  * &#127798; is an optional extra challenge\n",
    "  "
   ]
  },
  {
   "cell_type": "markdown",
   "metadata": {},
   "source": [
    "---"
   ]
  },
  {
   "cell_type": "markdown",
   "metadata": {
    "deletable": false,
    "editable": false,
    "nbgrader": {
     "cell_type": "markdown",
     "checksum": "3abca03e43868962cd75465192335d1d",
     "grade": false,
     "grade_id": "hw-instructions",
     "locked": true,
     "schema_version": 3,
     "solution": false
    }
   },
   "source": [
    "## Practice using names and operators in Python\n",
    "\n",
    "We've found that it's helpful for students who are brand new to programming to have some practice with the basic syntax. If that's you, that's what this notebook is for - we hope it helps with getting used to Python. If you're someone with more experience, don't overthink it - just move on quickly to the analysis for this week!\n",
    "\n",
    "Be sure you have read the following chapters of the Introduction to Earth Data Science online textbook:\n",
    "\n",
    "* **Chapter 10 from Section 4** <a href=\"https://www.earthdatascience.org/courses/intro-to-earth-data-science/python-code-fundamentals/get-started-using-python/lists/\" target=\"_blank\">Chapter 10 - Introduction to Python</a>\n",
    "* **Chapter 16 from Section 7** <a href=\"https://www.earthdatascience.org/courses/intro-to-earth-data-science/write-efficient-python-code/intro-to-clean-code/\" target=\"_blank\">Chapter 16 - Introduction to Clean Code</a>\n",
    "\n",
    "These chapters cover:\n",
    "\n",
    "* how to create and work with variables and lists \n",
    "* more background on **Python** packages and environments\n",
    "* how to write clean code, including an introduction to the PEP 8 style guide for **Python**."
   ]
  },
  {
   "cell_type": "markdown",
   "metadata": {},
   "source": [
    "## Assignment Data \n",
    "This data in this assignment, represent average monthly temperature for <a href=\"https://www.esrl.noaa.gov/psd/boulder/Boulder.mm.html\" target=\"_blank\">Boulder, Colorado, provided by the U.S. National Oceanic and Atmospheric Administration (NOAA).</a> "
   ]
  },
  {
   "cell_type": "markdown",
   "metadata": {
    "deletable": false,
    "editable": false,
    "nbgrader": {
     "cell_type": "markdown",
     "checksum": "6cb6cec4b9a8b2bccbfc982d26d6ca47",
     "grade": false,
     "grade_id": "student-create-variable-question",
     "locked": true,
     "schema_version": 3,
     "solution": false,
     "task": false
    }
   },
   "source": [
    "## Create Variables in Python\n",
    "\n",
    "Add your code to the cell below to complete the following task:\n",
    "\n",
    "* Create a unique variable that represents the monthly average temperature (Fahrenheit) for each month January through June.\n",
    "* Name each variable using the month column name. You should have 3 variables in total. (`jan`, `feb`, and `march`)\n",
    "\n",
    "IMPORTANT: Python variable names are CASE SENSITIVE! Be sure that you spell the variable name correctly and consider capitalization.\n",
    "\n",
    "Month  | Temperature (Fahrenheit) |\n",
    "--- | --- |\n",
    "jan | 32.0 |\n",
    "feb | 35.6 |\n",
    "mar | 41.0 |"
   ]
  },
  {
   "cell_type": "code",
   "execution_count": 1,
   "metadata": {
    "deletable": false,
    "nbgrader": {
     "cell_type": "code",
     "checksum": "d120c3eb26ea1ba4df25990f94d0a4e4",
     "grade": false,
     "grade_id": "student-create-variables-answer",
     "locked": false,
     "schema_version": 3,
     "solution": true,
     "task": false
    }
   },
   "outputs": [],
   "source": [
    "# Create variables of monthly temp\n",
    "jan = 32.0\n",
    "feb = 35.6\n",
    "mar = 41.0"
   ]
  },
  {
   "cell_type": "code",
   "execution_count": 2,
   "metadata": {
    "deletable": false,
    "editable": false,
    "nbgrader": {
     "cell_type": "code",
     "checksum": "1546588ed9f23238127831079feb0c8f",
     "grade": true,
     "grade_id": "create-variables-tests",
     "locked": true,
     "points": 6,
     "schema_version": 3,
     "solution": false,
     "task": false
    }
   },
   "outputs": [
    {
     "name": "stdout",
     "output_type": "stream",
     "text": [
      "✅ Nice work - all of your variables exist!\n",
      "✅ All of your variables are set to the correct values.\n",
      "\n",
      " ➡ You received 6 out of 6 points for creating the required variables.\n"
     ]
    },
    {
     "data": {
      "text/plain": [
       "6"
      ]
     },
     "execution_count": 2,
     "metadata": {},
     "output_type": "execute_result"
    }
   ],
   "source": [
    "# DO NOT MODIFY THIS CELL!\n",
    "# Did you create all of the variables? Run this cell to find out\n",
    "\n",
    "variables_points = 0\n",
    "\n",
    "variables_exist = False\n",
    "\n",
    "try:\n",
    "    checksum = round(jan + feb + mar, 1)\n",
    "    print(\"\\u2705 Nice work - all of your variables exist!\")\n",
    "    variables_points += 3\n",
    "    variables_exist = True\n",
    "except NameError as ne:\n",
    "    print((\"\\u274C Oops! At least one of your variables is missing. \"\n",
    "           \"Be sure that all your variables are spelled exactly as it is \"\n",
    "           \"represented in the Month column in the table above\"), \n",
    "          ne)\n",
    "\n",
    "if variables_exist:\n",
    "    if checksum == 108.6:\n",
    "        print(\"\\u2705 All of your variables are set to the correct values.\")\n",
    "        variables_points += 3\n",
    "    else:\n",
    "        print((\"\\u274C You variables exist, but at least one does not have \"\n",
    "               \"the correct value (the sum is incorrect).\"))\n",
    "\n",
    "print((\"\\n \\u27A1 You received {} out of 6 points for creating the required \"\n",
    "       \"variables.\"\n",
    "       .format(variables_points)))\n",
    "\n",
    "variables_points"
   ]
  },
  {
   "cell_type": "markdown",
   "metadata": {
    "deletable": false,
    "editable": false,
    "nbgrader": {
     "cell_type": "markdown",
     "checksum": "905b2f7d0c9c4aa9f1a51ce4f92c99e0",
     "grade": false,
     "grade_id": "question-calc-variables",
     "locked": true,
     "schema_version": 3,
     "solution": false,
     "task": false
    }
   },
   "source": [
    "## Run Calculations on Variables\n",
    "\n",
    "In the cell below, complete the following task:\n",
    "\n",
    "* Convert the 6 variable values for January through June that you created above **from Fahrenheit to Celsius** using the following equation:\n",
    "    * Celsius = (Fahrenheit - 32) / 1.8\n",
    "    * Note that Python by default follows the standard rules of math order of operations. This means that division would happen BEFORE subtraction. Including `Fahrenheit - 32` within parenthesis `()` tells `Python` to execute that calculation first.  "
   ]
  },
  {
   "cell_type": "code",
   "execution_count": 3,
   "metadata": {
    "deletable": false,
    "nbgrader": {
     "cell_type": "code",
     "checksum": "109863b12b4de90b2d3f37ec50f732f0",
     "grade": false,
     "grade_id": "student-calc-variables-answer",
     "locked": false,
     "schema_version": 3,
     "solution": true,
     "task": false
    }
   },
   "outputs": [],
   "source": [
    "# Convert variable values from Fahrenheit to Celsius\n",
    "\n",
    "jan = (32.0 - 32) / 1.8\n",
    "feb = (35.6 - 32) / 1.8\n",
    "mar = (41.0 - 32) / 1.8"
   ]
  },
  {
   "cell_type": "code",
   "execution_count": 4,
   "metadata": {
    "deletable": false,
    "editable": false,
    "nbgrader": {
     "cell_type": "code",
     "checksum": "be1bfb7f697cf43197858cc2ca54abaf",
     "grade": true,
     "grade_id": "student-calc-variables-tests",
     "locked": true,
     "points": 3,
     "schema_version": 3,
     "solution": false,
     "task": false
    }
   },
   "outputs": [
    {
     "name": "stdout",
     "output_type": "stream",
     "text": [
      "✅ You modified the variables you created above correctly, good job!\n",
      "\n",
      " ➡ You received 3 out of 3 points for reassigning the variable's values.\n"
     ]
    },
    {
     "data": {
      "text/plain": [
       "3"
      ]
     },
     "execution_count": 4,
     "metadata": {},
     "output_type": "execute_result"
    }
   ],
   "source": [
    "# DO NOT MODIFY THIS CELL\n",
    "\n",
    "variable_mod_points = 0\n",
    "\n",
    "checksum_celsius = 7.0\n",
    "\n",
    "if round(jan + feb + mar, 1) == checksum_celsius:\n",
    "    print((\"\\u2705 You modified the variables you created above correctly, \"\n",
    "           \"good job!\"))\n",
    "    variable_mod_points += 3\n",
    "else:\n",
    "    print((\"\\u274C You did not modify the variables as expected. Make sure \"\n",
    "           \"you assigned the output of your modification back to the \"\n",
    "           \"variable.\"))\n",
    "\n",
    "print((\"\\n \\u27A1 You received {} out of 3 points for reassigning the \"\n",
    "       \"variable's values.\"\n",
    "       .format(variable_mod_points)))\n",
    "\n",
    "variable_mod_points"
   ]
  },
  {
   "cell_type": "markdown",
   "metadata": {},
   "source": [
    "<img style=\"float: left;\" src=\"colored-bar.png\"/>"
   ]
  },
  {
   "cell_type": "markdown",
   "metadata": {
    "deletable": false,
    "editable": false,
    "nbgrader": {
     "cell_type": "markdown",
     "checksum": "c44d9e3756f01d51fbac55c7026fd886",
     "grade": false,
     "grade_id": "question-create-list-temp",
     "locked": true,
     "schema_version": 3,
     "solution": false,
     "task": false
    }
   },
   "source": [
    "## Create List of Converted Monthly Temperatures\n",
    "\n",
    "In the cell below, add your code **after the line for `Your Code Here`**, replacing `raise NotImplementedError()` with your code, to complete the following task:\n",
    "\n",
    "* Create a Python object of type **list** called **temp** for average monthly temperature for Boulder, CO containing the **variables for January to June in the Celsius degrees**. \n",
    "* Call the list you created at the end of the cell. For example:\n",
    "```\n",
    "list = [value1, value2]\n",
    "list\n",
    "```\n",
    "IMPORTANT: If you don't call the object at the end of your cell, the autograder will break. "
   ]
  },
  {
   "cell_type": "code",
   "execution_count": 5,
   "metadata": {
    "deletable": false,
    "nbgrader": {
     "cell_type": "code",
     "checksum": "8157f0bcaaf636fe9e337cb0d1bfbb08",
     "grade": false,
     "grade_id": "student-create-list-temp-answer",
     "locked": false,
     "schema_version": 3,
     "solution": true,
     "task": false
    }
   },
   "outputs": [
    {
     "data": {
      "text/plain": [
       "[0.0, 2.000000000000001, 5.0]"
      ]
     },
     "execution_count": 5,
     "metadata": {},
     "output_type": "execute_result"
    }
   ],
   "source": [
    "# Create list of converted monthly temps\n",
    "\n",
    "# YOUR CODE HERE\n",
    "\n",
    "# List to hold average monthly temperature for Boulder, CO\n",
    "temp =[jan, feb, mar]\n",
    "\n",
    "temp"
   ]
  },
  {
   "cell_type": "code",
   "execution_count": 6,
   "metadata": {
    "deletable": false,
    "editable": false,
    "nbgrader": {
     "cell_type": "code",
     "checksum": "9f5a804a87085a415eb17d3477d2acf3",
     "grade": true,
     "grade_id": "student-create-list-temp-tests",
     "locked": true,
     "points": 5,
     "schema_version": 3,
     "solution": false,
     "task": false
    }
   },
   "outputs": [
    {
     "name": "stdout",
     "output_type": "stream",
     "text": [
      "✅ Nice work! The object you called at the end of the cell is of type - list\n",
      "✅ Nice work! Your list has the correct number of elements\n",
      "✅ The list you created has the correct values in it, good job!\n",
      "\n",
      " ➡ You received 5 out of 5 points for creating a list of the temperatures January-June.\n"
     ]
    },
    {
     "data": {
      "text/plain": [
       "5"
      ]
     },
     "execution_count": 6,
     "metadata": {},
     "output_type": "execute_result"
    }
   ],
   "source": [
    "# DO NOT MODIFY THIS CELL!\n",
    "\n",
    "student_temp = _\n",
    "\n",
    "variable_list_points = 0\n",
    "is_list = False\n",
    "\n",
    "if isinstance(student_temp, list):\n",
    "    print((\"\\u2705 Nice work! The object you called at the end of the cell \"\n",
    "           \"is of type - list\"))\n",
    "    variable_list_points += 1\n",
    "    is_list = True\n",
    "else:\n",
    "    print((\"\\u274C Oops! Did you create a list variable and call it at the \"\n",
    "           \"end of the cell? Please reread the directions.\"))\n",
    "if is_list:\n",
    "    if len(student_temp) == 3:\n",
    "        print((\"\\u2705 Nice work! Your list has the correct number of \"\n",
    "               \"elements\"))\n",
    "        variable_list_points += 1\n",
    "    else:\n",
    "        print((\"\\u274C Oops - your list is not the correct length.\"))\n",
    "    \n",
    "if round(sum(student_temp), 1) == checksum_celsius:\n",
    "    print((\"\\u2705 The list you created has the correct values in it, good \"\n",
    "           \"job!\"))\n",
    "    variable_list_points += 3\n",
    "else:\n",
    "    print(\"\\u274C The list you created does not contain the correct values.\")\n",
    "\n",
    "print((\"\\n \\u27A1 You received {} out of 5 points for creating a list of the \"\n",
    "       \"temperatures January-June.\")\n",
    "       .format(variable_list_points))\n",
    "\n",
    "variable_list_points"
   ]
  },
  {
   "cell_type": "markdown",
   "metadata": {
    "deletable": false,
    "editable": false,
    "nbgrader": {
     "cell_type": "markdown",
     "checksum": "7d0f7beaf19ccba4b726e8e83c505f14",
     "grade": false,
     "grade_id": "question-add-values-list",
     "locked": true,
     "schema_version": 3,
     "solution": false,
     "task": false
    }
   },
   "source": [
    "## Add Values to List of Converted Monthly Temperatures\n",
    "\n",
    "In the cell below, replace the  `raise NotImplementedError()` with your code to complete the following task:\n",
    "\n",
    "* Add the average monthly temperature values for **July to December in the Celsius degrees** (in the table below) to your list called `temp` of converted monthly temperatures.\n",
    "    > HINT: There are actually 3 different ways you could complete this task: `.append()`, `.extend()`, or `+=`. Try out all 3 for practice!\n",
    "* **Print your completed list of converted monthly temperatures (in Celsius degrees).** \n",
    "\n",
    "Month  | Temperature (Celsius) |\n",
    "--- | --- |\n",
    "apr | 9.6 |\n",
    "may | 14.4 |\n",
    "june | 19.6 |\n",
    "july | 22.8 |\n",
    "aug | 21.7 |\n",
    "sept | 16.7 |\n",
    "oct | 11.6 |\n",
    "nov | 4.9 |\n",
    "dec | 1.0 |"
   ]
  },
  {
   "cell_type": "code",
   "execution_count": 7,
   "metadata": {
    "deletable": false,
    "nbgrader": {
     "cell_type": "code",
     "checksum": "88ea88a0a06cdd3aaee5802cac4ac7b8",
     "grade": false,
     "grade_id": "student-add-values-list",
     "locked": false,
     "schema_version": 3,
     "solution": true,
     "task": false
    }
   },
   "outputs": [
    {
     "data": {
      "text/plain": [
       "[0.0,\n",
       " 2.000000000000001,\n",
       " 5.0,\n",
       " 9.6,\n",
       " 14.4,\n",
       " 19.6,\n",
       " 22.8,\n",
       " 21.7,\n",
       " 16.7,\n",
       " 11.6,\n",
       " 4.9,\n",
       " 1.0]"
      ]
     },
     "execution_count": 7,
     "metadata": {},
     "output_type": "execute_result"
    }
   ],
   "source": [
    "# YOUR CODE HERE\n",
    "\n",
    "# Assign new values to months\n",
    "months = ['apr', 'may', 'june', 'july', 'aug', 'sept', 'oct', 'nov', 'dec']\n",
    "temps = [9.6, 14.4, 19.6, 22.8, 21.7, 16.7, 11.6, 4.9, 1.0]\n",
    "\n",
    "apr, may, june, july, aug, sept, oct, nov, dec = temps\n",
    "\n",
    "# Add those values to the temp list\n",
    "temp.extend(temps)\n",
    "\n",
    "temp"
   ]
  },
  {
   "cell_type": "code",
   "execution_count": 8,
   "metadata": {
    "deletable": false,
    "editable": false,
    "nbgrader": {
     "cell_type": "code",
     "checksum": "9609f946b33d6eeafff7c03e3b5e6cc4",
     "grade": true,
     "grade_id": "test-add-values-list",
     "locked": true,
     "points": 7,
     "schema_version": 3,
     "solution": false,
     "task": false
    }
   },
   "outputs": [
    {
     "name": "stdout",
     "output_type": "stream",
     "text": [
      "✅ Nice work! The object you called at the end of the cell is of type - list\n",
      "✅ Nice work! Your list has the correct number of elements\n",
      "✅ The list you created has the correct values in it, good job!\n",
      "\n",
      " ➡ You received 7 out of 7 points for creating a list of the temperatures January-June.\n"
     ]
    },
    {
     "data": {
      "text/plain": [
       "7"
      ]
     },
     "execution_count": 8,
     "metadata": {},
     "output_type": "execute_result"
    }
   ],
   "source": [
    "# DO NOT MODIFY THIS CELL\n",
    "\n",
    "student_temp_long = _\n",
    "\n",
    "temp_long_points = 0\n",
    "is_list = False\n",
    "\n",
    "if isinstance(student_temp_long, list):\n",
    "    print((\"\\u2705 Nice work! The object you called at the end of the cell \"\n",
    "           \"is of type - list\"))\n",
    "    temp_long_points += 2\n",
    "    is_list = True\n",
    "else:\n",
    "    print((\"\\u274C Oops! Did you create a list variable and call it at the \"\n",
    "           \"end of the cell? Please reread the directions.\"))\n",
    "\n",
    "if is_list:\n",
    "    if len(student_temp_long) == 12:\n",
    "        print((\"\\u2705 Nice work! Your list has the correct number of \"\n",
    "               \"elements\"))\n",
    "        temp_long_points += 2\n",
    "    else:\n",
    "        print((\"\\u274C Oops - your list is not the correct length.\"))\n",
    "    \n",
    "if round(sum(student_temp_long), 1) == 129.3:\n",
    "    print((\"\\u2705 The list you created has the correct values in it, good \"\n",
    "           \"job!\"))\n",
    "    temp_long_points += 3\n",
    "else:\n",
    "    print(\"\\u274C The list you created does not contain the correct values.\")\n",
    "\n",
    "print((\"\\n \\u27A1 You received {} out of 7 points for creating a list of the \"\n",
    "       \"temperatures January-June.\")\n",
    "       .format(temp_long_points))\n",
    "\n",
    "temp_long_points"
   ]
  },
  {
   "cell_type": "markdown",
   "metadata": {
    "deletable": false,
    "editable": false,
    "nbgrader": {
     "cell_type": "markdown",
     "checksum": "6f9607fec09cf3d9dedc4a7f1520adff",
     "grade": false,
     "grade_id": "question-explain-pep-8",
     "locked": true,
     "points": 4,
     "schema_version": 3,
     "solution": false,
     "task": true
    }
   },
   "source": [
    "## Discuss Use of PEP 8 Style Guide\n",
    "\n",
    "In the Markdown cell below, answer the following questions about the PEP 8 style guide using a **bullet list**:\n",
    "\n",
    "1. How did the PEP 8 style guide influence your choice of variable names and your code organization in this assignment?\n",
    "\n",
    "2. Describe one way in which these standards are promoted and/or enforced within the `Python` community.\n",
    "\n",
    "Remove any existing text in the cell before adding your answer.\n"
   ]
  },
  {
   "cell_type": "markdown",
   "metadata": {},
   "source": [
    "* It influenced me to use sensical variable names to and use comments\n",
    "* They are enforced, but I think that everyone still writes in a way that they think they follow the guidlines, but it is so much more than that."
   ]
  },
  {
   "cell_type": "markdown",
   "metadata": {},
   "source": [
    "<img style=\"float: left;\" src=\"colored-bar.png\"/>"
   ]
  },
  {
   "cell_type": "markdown",
   "metadata": {
    "deletable": false,
    "editable": false,
    "nbgrader": {
     "cell_type": "markdown",
     "checksum": "f99914b4306fd27ce2c2eb9f8336390e",
     "grade": false,
     "grade_id": "bonus-instructions",
     "locked": true,
     "schema_version": 3,
     "solution": false,
     "task": false
    }
   },
   "source": [
    "<div class=\"notice--warning\" markdown=\"1\">\n",
    "\n",
    "## <i class=\"fa fa-pencil-square-o\" aria-hidden=\"true\"></i> BONUS Challenge: List Comprehensions in Python (OPTIONAL)\n",
    "\n",
    "**This activity is optional!**\n",
    "\n",
    "Above you performed many tasks manually. Included in those manual steps was one \n",
    "where you converted each individual value in your list from Fahrenheit to Celsius.\n",
    "In **Python**, list comprehensions are a great way to perform operations on a sequence \n",
    "of values stored within a list. \n",
    "\n",
    "The syntax for a list comprehension is below. Essentially what is happening is that \n",
    "Python is iterating through each value in the old list (`for i in my_old_list`) and \n",
    "multiplying it by 2 (`i*2`). In each iteration of the loop, the value `i` represents \n",
    "the next value in the list. In the example below, `i` will first be the value 1, \n",
    "and then 2, and finally 3.\n",
    "\n",
    "\n",
    "```python\n",
    "my_old_list = [1, 2, 3]\n",
    "my_new_list = [i*2 for i in my_old_list] \n",
    "```\n",
    "\n",
    "`my_new_list` will equal each value in `my_old_list` multiplied by 2, so `my_new_list` \n",
    "will be equivalent to `[2, 4, 6]`. You can run this code and see the output for yourself!\n",
    "Try to experiment with writing more efficient code. Convert your `boulder_precip_inches` \n",
    "list of values to a new list called `boulder_precip_mm` using a list comprehension. Use \n",
    "the syntax above to help you create this list comprehension.\n",
    "\n",
    "### Your Challenge If You Chose to Accept It\n",
    "\n",
    "The code below creates a list object called temp_fah that stores 6 temperature values in degrees\n",
    "Fahrenheit. \n",
    "\n",
    "`temp_fah = [32.0, 35.6, 41.0, 49.2, 57.9, 67.2]`\n",
    "\n",
    "Do the following:\n",
    "\n",
    "1. Copy the code into the code cell below\n",
    "2. Create a list comprehension that creates a new object which contains each value converted into Celsius.\n",
    "3. Call the new list you created at the end of the cell. \n",
    "\n",
    "\n",
    "### Learn More About For Loops and List Comprehensions in Python (OPTIONAL)\n",
    "\n",
    "For more information on loops and changing values within a list, you can check out:\n",
    "\n",
    "* <a href=\"https://www.earthdatascience.org/courses/intro-to-earth-data-science/write-efficient-python-code/loops/\" target=\"_blank\">Earth Lab's lesson introducing loops in Python,</a> and \n",
    "* <a href=\"https://www.earthdatascience.org/courses/intro-to-earth-data-science/write-efficient-python-code/loops/list-comprehensions\" target=\"_blank\">Earth Lab's lesson on list comprehensions in Python.</a>\n",
    "\n",
    "</div>"
   ]
  },
  {
   "cell_type": "code",
   "execution_count": 9,
   "metadata": {
    "deletable": false,
    "nbgrader": {
     "cell_type": "code",
     "checksum": "5ed192f6118a59a64d70be84b935d8f3",
     "grade": false,
     "grade_id": "bonus-answer",
     "locked": false,
     "schema_version": 3,
     "solution": true,
     "task": false
    }
   },
   "outputs": [
    {
     "data": {
      "text/plain": [
       "[0.0,\n",
       " 2.000000000000001,\n",
       " 5.0,\n",
       " 9.555555555555557,\n",
       " 14.38888888888889,\n",
       " 19.555555555555557]"
      ]
     },
     "execution_count": 9,
     "metadata": {},
     "output_type": "execute_result"
    }
   ],
   "source": [
    "# YOUR CODE HERE\n",
    "\n",
    "temp_fah = [32.0, 35.6, 41.0, 49.2, 57.9, 67.2]\n",
    "\n",
    "temp_cel = [(temp - 32) * 5/9 for temp in temp_fah]\n",
    "\n",
    "temp_cel"
   ]
  },
  {
   "cell_type": "code",
   "execution_count": 10,
   "metadata": {
    "deletable": false,
    "editable": false,
    "nbgrader": {
     "cell_type": "code",
     "checksum": "d333db4b76cd3f84e9bf1990f08934b0",
     "grade": true,
     "grade_id": "bonus-tests",
     "locked": true,
     "points": 5,
     "schema_version": 3,
     "solution": false,
     "task": false
    }
   },
   "outputs": [
    {
     "name": "stdout",
     "output_type": "stream",
     "text": [
      "✅ Nice work! The object you called at the end of the cell is of type - list\n",
      "✅ Nice work! Your list has the correct number of elements\n",
      "✅ Your list comprehension output has the correct values in it.\n",
      "\n",
      " ➡ You received 5 out of 5 extra credit points for creating a list with list comprehension.\n"
     ]
    },
    {
     "data": {
      "text/plain": [
       "5"
      ]
     },
     "execution_count": 10,
     "metadata": {},
     "output_type": "execute_result"
    }
   ],
   "source": [
    "# DO NOT MODIFY THIS CELL\n",
    "\n",
    "student_temp_cel = _\n",
    "\n",
    "student_temp_cel_points = 0\n",
    "\n",
    "if isinstance(student_temp_cel, list):\n",
    "    print((\"\\u2705 Nice work! The object you called at the end of the cell \"\n",
    "           \"is of type - list\"))\n",
    "    student_temp_cel_points += 1\n",
    "    is_list = True\n",
    "else:\n",
    "    print((\"\\u274C Oops! Did you create a list variable and call it at the \"\n",
    "           \"end of the cell? Please reread the directions.\"))\n",
    "\n",
    "if is_list:\n",
    "    if len(student_temp_cel) == 6:\n",
    "        print((\"\\u2705 Nice work! Your list has the correct number of \"\n",
    "               \"elements\"))\n",
    "        student_temp_cel_points += 1\n",
    "    else:\n",
    "        print((\"\\u274C Oops - your list is not the correct length.\"))\n",
    "\n",
    "    if round(sum(student_temp_cel), 1) == 50.5:\n",
    "        print((\"\\u2705 Your list comprehension output has the correct \"\n",
    "               \"values in it.\"))\n",
    "        student_temp_cel_points += 3\n",
    "    else:\n",
    "        print((\"\\u274C Your list comprehension output does not have the \"\n",
    "               \"correct values in it.\"))\n",
    "\n",
    "print(\"\\n \\u27A1 You received {} out of 5 extra credit points for creating a list \"\n",
    "      \"with list comprehension.\"\n",
    "      .format(student_temp_cel_points))\n",
    "\n",
    "student_temp_cel_points"
   ]
  }
 ],
 "metadata": {
  "kernelspec": {
   "display_name": "Python 3 (ipykernel)",
   "language": "python",
   "name": "python3"
  },
  "language_info": {
   "codemirror_mode": {
    "name": "ipython",
    "version": 3
   },
   "file_extension": ".py",
   "mimetype": "text/x-python",
   "name": "python",
   "nbconvert_exporter": "python",
   "pygments_lexer": "ipython3",
   "version": "3.10.11"
  },
  "toc": {
   "base_numbering": 1,
   "nav_menu": {},
   "number_sections": true,
   "sideBar": true,
   "skip_h1_title": true,
   "title_cell": "Table of Contents",
   "title_sidebar": "Contents",
   "toc_cell": false,
   "toc_position": {},
   "toc_section_display": true,
   "toc_window_display": false
  },
  "varInspector": {
   "cols": {
    "lenName": 16,
    "lenType": 16,
    "lenVar": 40
   },
   "kernels_config": {
    "python": {
     "delete_cmd_postfix": "",
     "delete_cmd_prefix": "del ",
     "library": "var_list.py",
     "varRefreshCmd": "print(var_dic_list())"
    },
    "r": {
     "delete_cmd_postfix": ") ",
     "delete_cmd_prefix": "rm(",
     "library": "var_list.r",
     "varRefreshCmd": "cat(var_dic_list()) "
    }
   },
   "position": {
    "height": "322.074px",
    "left": "955.267px",
    "right": "20px",
    "top": "116.997px",
    "width": "785.497px"
   },
   "types_to_exclude": [
    "module",
    "function",
    "builtin_function_or_method",
    "instance",
    "_Feature"
   ],
   "window_display": false
  }
 },
 "nbformat": 4,
 "nbformat_minor": 2
}
